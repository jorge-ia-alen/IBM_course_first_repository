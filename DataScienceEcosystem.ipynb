{
 "cells": [
  {
   "cell_type": "markdown",
   "id": "760c652e-643d-4563-ac36-1a2af874f30c",
   "metadata": {},
   "source": [
    "# Data Science Tools & Ecosystem"
   ]
  },
  {
   "cell_type": "markdown",
   "id": "86a81d19-88c6-483a-858b-fdd5ce4133e1",
   "metadata": {},
   "source": [
    "In this notebook, Data Science Tools and Ecosystem are summarized."
   ]
  },
  {
   "cell_type": "markdown",
   "id": "59b1a8fe-a976-4d7d-9f49-7d2110800124",
   "metadata": {},
   "source": [
    "### Objectives:\n",
    "- List of popular languages of Data Science.\n",
    "- Libraries used by Data Scientists.\n",
    "- Evaluating arithmetic expressions in Python.\n",
    "- Calculate 200 minutes in hours."
   ]
  },
  {
   "cell_type": "markdown",
   "id": "2ce88ef7-840e-4fcd-b9f2-3a09a13187ad",
   "metadata": {},
   "source": [
    "### Some of the popular languages of Data Science are:\n",
    "1. Python\n",
    "2. R\n",
    "3. SQL"
   ]
  },
  {
   "cell_type": "markdown",
   "id": "1c3f2b08-8537-4b88-8b40-f157c25a9f9d",
   "metadata": {},
   "source": [
    "### Some of the commonly used libraries used by Data Scientists include:\n",
    "1. Numpy\n",
    "2. MathplotLib\n",
    "3. Scikit-learn"
   ]
  },
  {
   "cell_type": "markdown",
   "id": "1048c866-3e29-4052-8482-c349cd40b29f",
   "metadata": {},
   "source": [
    "|Data Science Tools|\n",
    "|---|\n",
    "|VS Code|\n",
    "|JupyterLab|\n",
    "|Rstudio|"
   ]
  },
  {
   "cell_type": "markdown",
   "id": "68710519-b6c8-431d-b879-cc5fe9e46c84",
   "metadata": {},
   "source": [
    "### Below are a few examples of evaluating arithmetic expressions in Python."
   ]
  },
  {
   "cell_type": "markdown",
   "id": "999bb499-2794-4bb2-8621-48e826369e22",
   "metadata": {},
   "source": [
    "4.3"
   ]
  },
  {
   "cell_type": "code",
   "execution_count": 9,
   "id": "d390a107-836b-4a72-a92c-8cc094beaf71",
   "metadata": {},
   "outputs": [
    {
     "data": {
      "text/plain": [
       "17"
      ]
     },
     "execution_count": 9,
     "metadata": {},
     "output_type": "execute_result"
    }
   ],
   "source": [
    "#This a simple arithmetic expression to mutiply then add integers\n",
    "(3*4)+5"
   ]
  },
  {
   "cell_type": "code",
   "execution_count": 19,
   "id": "4153d394-4e97-4515-9f75-0a7c84b9ecd0",
   "metadata": {},
   "outputs": [
    {
     "name": "stdout",
     "output_type": "stream",
     "text": [
      "200 minutes in hours is equal 3 hours\n"
     ]
    }
   ],
   "source": [
    "#This will convert 200 minutes to hours by diving by 60\n",
    "print('200 minutes in hours is equal {} hours'.format(round(200/60),2))"
   ]
  },
  {
   "cell_type": "markdown",
   "id": "7104ddd5-fcf9-482d-8d6b-513d625622ad",
   "metadata": {},
   "source": [
    "## Author\n",
    "Jorge Cabral"
   ]
  }
 ],
 "metadata": {
  "kernelspec": {
   "display_name": "Python 3 (ipykernel)",
   "language": "python",
   "name": "python3"
  },
  "language_info": {
   "codemirror_mode": {
    "name": "ipython",
    "version": 3
   },
   "file_extension": ".py",
   "mimetype": "text/x-python",
   "name": "python",
   "nbconvert_exporter": "python",
   "pygments_lexer": "ipython3",
   "version": "3.11.7"
  }
 },
 "nbformat": 4,
 "nbformat_minor": 5
}
